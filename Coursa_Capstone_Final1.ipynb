{
  "nbformat": 4,
  "nbformat_minor": 0,
  "metadata": {
    "colab": {
      "name": "Coursa Capstone Final.ipynb",
      "provenance": [],
      "collapsed_sections": [
        "WlS_R2MkuVZ8"
      ],
      "authorship_tag": "ABX9TyNml+U8eTJAdCnU2fX/u0u/"
    },
    "kernelspec": {
      "name": "python3",
      "display_name": "Python 3"
    },
    "language_info": {
      "name": "python"
    }
  },
  "cells": [
    {
      "cell_type": "markdown",
      "metadata": {
        "id": "7sv5qRFtv45t"
      },
      "source": [
        "# Battle of the Neighborhood"
      ]
    },
    {
      "cell_type": "markdown",
      "metadata": {
        "id": "gNY1tfpwwAKJ"
      },
      "source": [
        "## Table of contents\n",
        "* [Introduction: Business Problem](#introduction)\n",
        "* [Data](#data)\n",
        "* [Methodology](#methodology)\n",
        "* [Analysis](#analysis)\n",
        "* [Results and Discussion](#results)\n",
        "* [Conclusion](#conclusion)"
      ]
    },
    {
      "cell_type": "markdown",
      "metadata": {
        "id": "6O5iLbjrt5Za"
      },
      "source": [
        "## Introduction: Business Problem <a name=\"introduction\"></a>"
      ]
    },
    {
      "cell_type": "markdown",
      "metadata": {
        "id": "F6Q21IA-vXst"
      },
      "source": [
        "In this project we will find the best neighborhood to open a theater in Chicago.\n",
        "\n",
        "Since there are theaters throughout the city, the goal is to find the neighboor with a high popluation, low amount of theaters, and a low amount of other entertainment attracts.\n",
        "\n",
        "A list of top neighboors will be provided. Allowing them to see pros and cons from each neighborhood to decide where to open a new theater."
      ]
    },
    {
      "cell_type": "markdown",
      "metadata": {
        "id": "WlS_R2MkuVZ8"
      },
      "source": [
        "## Data <a name=\"data\"></a>"
      ]
    },
    {
      "cell_type": "code",
      "metadata": {
        "id": "r8d9HtDsu6hQ"
      },
      "source": [
        "import numpy as np\n",
        "import pandas as pd\n",
        "\n",
        "import json\n",
        "import requests\n",
        "import matplotlib.cm as cm\n",
        "import matplotlib.colors as colors\n",
        "\n",
        "from bs4 import BeautifulSoup\n",
        "from sklearn.cluster import KMeans\n",
        "from pandas.io.json import json_normalize\n",
        "import folium"
      ],
      "execution_count": null,
      "outputs": []
    },
    {
      "cell_type": "markdown",
      "metadata": {
        "id": "KrCFTQfVu7Fb"
      },
      "source": [
        "## Methodology <a name=\"methodology\"></a>"
      ]
    },
    {
      "cell_type": "markdown",
      "metadata": {
        "id": "YQEchzhyw2t4"
      },
      "source": [
        "## Analysis <a name=\"analysis\"></a>"
      ]
    },
    {
      "cell_type": "markdown",
      "metadata": {
        "id": "VX49YTb1xGr1"
      },
      "source": [
        "## Results and Discussion <a name=\"results\"></a>"
      ]
    },
    {
      "cell_type": "markdown",
      "metadata": {
        "id": "Zc-f33L8xHWy"
      },
      "source": [
        "## Conclusion <a name=\"conclusion\"></a>"
      ]
    }
  ]
}