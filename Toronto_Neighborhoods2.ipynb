{
  "nbformat": 4,
  "nbformat_minor": 0,
  "metadata": {
    "colab": {
      "name": "Toronto Neighborhoods.ipynb",
      "provenance": [],
      "collapsed_sections": [],
      "authorship_tag": "ABX9TyPTjHCvzIv1C243X5rSXiPR",
      "include_colab_link": true
    },
    "kernelspec": {
      "name": "python3",
      "display_name": "Python 3"
    },
    "language_info": {
      "name": "python"
    }
  },
  "cells": [
    {
      "cell_type": "markdown",
      "metadata": {
        "id": "view-in-github",
        "colab_type": "text"
      },
      "source": [
        "<a href=\"https://colab.research.google.com/github/McAjumma/Coursera_Capstone/blob/main/Toronto_Neighborhoods2.ipynb\" target=\"_parent\"><img src=\"https://colab.research.google.com/assets/colab-badge.svg\" alt=\"Open In Colab\"/></a>"
      ]
    },
    {
      "cell_type": "markdown",
      "metadata": {
        "id": "DFtlzbhG5h9L"
      },
      "source": [
        "# Web Scraping the Data"
      ]
    },
    {
      "cell_type": "markdown",
      "metadata": {
        "id": "FFoYht1Y6BDU"
      },
      "source": [
        "In this section the data is scraped from the Wikipedia page: https://en.wikipedia.org/wiki/List_of_postal_codes_of_Canada:_M. This is used to create a table that stores the postal code, borough, and neighboors."
      ]
    },
    {
      "cell_type": "code",
      "metadata": {
        "id": "ByWCGUY_PxM6"
      },
      "source": [
        "import numpy as np\n",
        "import pandas as pd\n",
        "\n",
        "import json\n",
        "import requests\n",
        "import matplotlib.cm as cm\n",
        "import matplotlib.colors as colors\n",
        "\n",
        "from bs4 import BeautifulSoup\n",
        "from sklearn.cluster import KMeans\n",
        "from pandas.io.json import json_normalize"
      ],
      "execution_count": 46,
      "outputs": []
    },
    {
      "cell_type": "markdown",
      "metadata": {
        "id": "xjcnZnsw8_jQ"
      },
      "source": [
        "This is grabbing everything from the webpage."
      ]
    },
    {
      "cell_type": "code",
      "metadata": {
        "id": "k_eoA7IGP2fN"
      },
      "source": [
        "url = \"https://en.wikipedia.org/wiki/List_of_postal_codes_of_Canada:_M\"\n",
        "hmtl_data = requests.get(url).text"
      ],
      "execution_count": 47,
      "outputs": []
    },
    {
      "cell_type": "markdown",
      "metadata": {
        "id": "X_3-Ll529IoF"
      },
      "source": [
        "This is changing everything that was grabbed to be read as html code."
      ]
    },
    {
      "cell_type": "code",
      "metadata": {
        "id": "l9AMC8WdP53m"
      },
      "source": [
        "soup = BeautifulSoup(hmtl_data, \"html5lib\")"
      ],
      "execution_count": 48,
      "outputs": []
    },
    {
      "cell_type": "markdown",
      "metadata": {
        "id": "ZrACCwvt9dkG"
      },
      "source": [
        "This section starts by creating an empty list to store the data and load into the DataFrame t_n. Next the code searches for the a table in the html data code, storing it in table. The for loop will go through each line. The loop will skip if the line has 'Not assigned' as a value. If the line doesn't have that it will change the line to text, remove unneeded characters and store it in the made list. After looping through the whole table the list is stored into a DataFrame. The last line cleans up the names of some of the boroughs stored in the DataFrame."
      ]
    },
    {
      "cell_type": "code",
      "metadata": {
        "id": "-UJOa5fJP_Ph"
      },
      "source": [
        "table_contents=[]\n",
        "#t_n = pd.DataFrame(columns=['PostalCode', 'Borough', 'Neighborhoods']\n",
        "table=soup.find('table')\n",
        "for row in table.findAll('td'):\n",
        "    cell = {}\n",
        "    if row.span.text=='Not assigned':\n",
        "        pass\n",
        "    else:\n",
        "        cell['PostalCode'] = row.p.text[:3]\n",
        "        cell['Borough'] = (row.span.text).split('(')[0]\n",
        "        cell['Neighborhood'] = (((((row.span.text).split('(')[1]).strip(')')).replace(' /',',')).replace(')',' ')).strip(' ')\n",
        "        table_contents.append(cell)\n",
        "\n",
        "# print(table_contents)\n",
        "t_n=pd.DataFrame(table_contents)\n",
        "t_n['Borough']=t_n['Borough'].replace({'Downtown TorontoStn A PO Boxes25 The Esplanade':'Downtown Toronto Stn A',\n",
        "                                             'East TorontoBusiness reply mail Processing Centre969 Eastern':'East Toronto Business',\n",
        "                                             'EtobicokeNorthwest':'Etobicoke Northwest','East YorkEast Toronto':'East York/East Toronto',\n",
        "                                             'MississaugaCanada Post Gateway Processing Centre':'Mississauga'})"
      ],
      "execution_count": 49,
      "outputs": []
    },
    {
      "cell_type": "markdown",
      "metadata": {
        "id": "KIAgr6gY-ygk"
      },
      "source": [
        "This is showing the newly created DataFrame."
      ]
    },
    {
      "cell_type": "code",
      "metadata": {
        "colab": {
          "base_uri": "https://localhost:8080/",
          "height": 424
        },
        "id": "jAIgvQ-kQGmc",
        "outputId": "c5a4afba-6503-44e0-e1e6-dd984e78cea9"
      },
      "source": [
        "t_n"
      ],
      "execution_count": 50,
      "outputs": [
        {
          "output_type": "execute_result",
          "data": {
            "text/html": [
              "<div>\n",
              "<style scoped>\n",
              "    .dataframe tbody tr th:only-of-type {\n",
              "        vertical-align: middle;\n",
              "    }\n",
              "\n",
              "    .dataframe tbody tr th {\n",
              "        vertical-align: top;\n",
              "    }\n",
              "\n",
              "    .dataframe thead th {\n",
              "        text-align: right;\n",
              "    }\n",
              "</style>\n",
              "<table border=\"1\" class=\"dataframe\">\n",
              "  <thead>\n",
              "    <tr style=\"text-align: right;\">\n",
              "      <th></th>\n",
              "      <th>PostalCode</th>\n",
              "      <th>Borough</th>\n",
              "      <th>Neighborhood</th>\n",
              "    </tr>\n",
              "  </thead>\n",
              "  <tbody>\n",
              "    <tr>\n",
              "      <th>0</th>\n",
              "      <td>M3A</td>\n",
              "      <td>North York</td>\n",
              "      <td>Parkwoods</td>\n",
              "    </tr>\n",
              "    <tr>\n",
              "      <th>1</th>\n",
              "      <td>M4A</td>\n",
              "      <td>North York</td>\n",
              "      <td>Victoria Village</td>\n",
              "    </tr>\n",
              "    <tr>\n",
              "      <th>2</th>\n",
              "      <td>M5A</td>\n",
              "      <td>Downtown Toronto</td>\n",
              "      <td>Regent Park, Harbourfront</td>\n",
              "    </tr>\n",
              "    <tr>\n",
              "      <th>3</th>\n",
              "      <td>M6A</td>\n",
              "      <td>North York</td>\n",
              "      <td>Lawrence Manor, Lawrence Heights</td>\n",
              "    </tr>\n",
              "    <tr>\n",
              "      <th>4</th>\n",
              "      <td>M7A</td>\n",
              "      <td>Queen's Park</td>\n",
              "      <td>Ontario Provincial Government</td>\n",
              "    </tr>\n",
              "    <tr>\n",
              "      <th>...</th>\n",
              "      <td>...</td>\n",
              "      <td>...</td>\n",
              "      <td>...</td>\n",
              "    </tr>\n",
              "    <tr>\n",
              "      <th>98</th>\n",
              "      <td>M8X</td>\n",
              "      <td>Etobicoke</td>\n",
              "      <td>The Kingsway, Montgomery Road, Old Mill North</td>\n",
              "    </tr>\n",
              "    <tr>\n",
              "      <th>99</th>\n",
              "      <td>M4Y</td>\n",
              "      <td>Downtown Toronto</td>\n",
              "      <td>Church and Wellesley</td>\n",
              "    </tr>\n",
              "    <tr>\n",
              "      <th>100</th>\n",
              "      <td>M7Y</td>\n",
              "      <td>East Toronto Business</td>\n",
              "      <td>Enclave of M4L</td>\n",
              "    </tr>\n",
              "    <tr>\n",
              "      <th>101</th>\n",
              "      <td>M8Y</td>\n",
              "      <td>Etobicoke</td>\n",
              "      <td>Old Mill South, King's Mill Park, Sunnylea, Hu...</td>\n",
              "    </tr>\n",
              "    <tr>\n",
              "      <th>102</th>\n",
              "      <td>M8Z</td>\n",
              "      <td>Etobicoke</td>\n",
              "      <td>Mimico NW, The Queensway West, South of Bloor,...</td>\n",
              "    </tr>\n",
              "  </tbody>\n",
              "</table>\n",
              "<p>103 rows × 3 columns</p>\n",
              "</div>"
            ],
            "text/plain": [
              "    PostalCode  ...                                       Neighborhood\n",
              "0          M3A  ...                                          Parkwoods\n",
              "1          M4A  ...                                   Victoria Village\n",
              "2          M5A  ...                          Regent Park, Harbourfront\n",
              "3          M6A  ...                   Lawrence Manor, Lawrence Heights\n",
              "4          M7A  ...                      Ontario Provincial Government\n",
              "..         ...  ...                                                ...\n",
              "98         M8X  ...      The Kingsway, Montgomery Road, Old Mill North\n",
              "99         M4Y  ...                               Church and Wellesley\n",
              "100        M7Y  ...                                     Enclave of M4L\n",
              "101        M8Y  ...  Old Mill South, King's Mill Park, Sunnylea, Hu...\n",
              "102        M8Z  ...  Mimico NW, The Queensway West, South of Bloor,...\n",
              "\n",
              "[103 rows x 3 columns]"
            ]
          },
          "metadata": {
            "tags": []
          },
          "execution_count": 50
        }
      ]
    },
    {
      "cell_type": "markdown",
      "metadata": {
        "id": "AjWiSkiG-4HJ"
      },
      "source": [
        "And this is the shape of the Dataframe."
      ]
    },
    {
      "cell_type": "code",
      "metadata": {
        "colab": {
          "base_uri": "https://localhost:8080/"
        },
        "id": "cpqyiWTLQJOJ",
        "outputId": "eb8b7235-0412-47c0-be08-0b5bc939980c"
      },
      "source": [
        "t_n.shape"
      ],
      "execution_count": 51,
      "outputs": [
        {
          "output_type": "execute_result",
          "data": {
            "text/plain": [
              "(103, 3)"
            ]
          },
          "metadata": {
            "tags": []
          },
          "execution_count": 51
        }
      ]
    },
    {
      "cell_type": "markdown",
      "metadata": {
        "id": "YLOJ6TX655PA"
      },
      "source": [
        "# Latitude and Longitude"
      ]
    },
    {
      "cell_type": "markdown",
      "metadata": {
        "id": "KaszN6vY6ZK0"
      },
      "source": [
        "This section grabs the Latitude and Longitude from the Geospatial_Coordinates.csv and stores it in a DataFrame. From there it merges the new DataFrame and the one from the previous section."
      ]
    },
    {
      "cell_type": "markdown",
      "metadata": {
        "id": "37rBAli-_YNQ"
      },
      "source": [
        "The CSV file, Geospatial_Coordinates.csv, is store into a DataFrame. The columns are renamed to be used in the next section. The newly form DataFrame is displayed."
      ]
    },
    {
      "cell_type": "code",
      "metadata": {
        "id": "byfZR-bTQZUh",
        "colab": {
          "base_uri": "https://localhost:8080/",
          "height": 424
        },
        "outputId": "09d7ed9b-bb14-4361-da64-2e0ab9243163"
      },
      "source": [
        "la_lng = pd.read_csv(\"Geospatial_Coordinates.csv\")\n",
        "names = ['PostalCode', 'Latitude', 'Longitude']\n",
        "la_lng.columns = names\n",
        "la_lng"
      ],
      "execution_count": null,
      "outputs": [
        {
          "output_type": "execute_result",
          "data": {
            "text/html": [
              "<div>\n",
              "<style scoped>\n",
              "    .dataframe tbody tr th:only-of-type {\n",
              "        vertical-align: middle;\n",
              "    }\n",
              "\n",
              "    .dataframe tbody tr th {\n",
              "        vertical-align: top;\n",
              "    }\n",
              "\n",
              "    .dataframe thead th {\n",
              "        text-align: right;\n",
              "    }\n",
              "</style>\n",
              "<table border=\"1\" class=\"dataframe\">\n",
              "  <thead>\n",
              "    <tr style=\"text-align: right;\">\n",
              "      <th></th>\n",
              "      <th>PostalCode</th>\n",
              "      <th>Latitude</th>\n",
              "      <th>Longitude</th>\n",
              "    </tr>\n",
              "  </thead>\n",
              "  <tbody>\n",
              "    <tr>\n",
              "      <th>0</th>\n",
              "      <td>M1B</td>\n",
              "      <td>43.806686</td>\n",
              "      <td>-79.194353</td>\n",
              "    </tr>\n",
              "    <tr>\n",
              "      <th>1</th>\n",
              "      <td>M1C</td>\n",
              "      <td>43.784535</td>\n",
              "      <td>-79.160497</td>\n",
              "    </tr>\n",
              "    <tr>\n",
              "      <th>2</th>\n",
              "      <td>M1E</td>\n",
              "      <td>43.763573</td>\n",
              "      <td>-79.188711</td>\n",
              "    </tr>\n",
              "    <tr>\n",
              "      <th>3</th>\n",
              "      <td>M1G</td>\n",
              "      <td>43.770992</td>\n",
              "      <td>-79.216917</td>\n",
              "    </tr>\n",
              "    <tr>\n",
              "      <th>4</th>\n",
              "      <td>M1H</td>\n",
              "      <td>43.773136</td>\n",
              "      <td>-79.239476</td>\n",
              "    </tr>\n",
              "    <tr>\n",
              "      <th>...</th>\n",
              "      <td>...</td>\n",
              "      <td>...</td>\n",
              "      <td>...</td>\n",
              "    </tr>\n",
              "    <tr>\n",
              "      <th>98</th>\n",
              "      <td>M9N</td>\n",
              "      <td>43.706876</td>\n",
              "      <td>-79.518188</td>\n",
              "    </tr>\n",
              "    <tr>\n",
              "      <th>99</th>\n",
              "      <td>M9P</td>\n",
              "      <td>43.696319</td>\n",
              "      <td>-79.532242</td>\n",
              "    </tr>\n",
              "    <tr>\n",
              "      <th>100</th>\n",
              "      <td>M9R</td>\n",
              "      <td>43.688905</td>\n",
              "      <td>-79.554724</td>\n",
              "    </tr>\n",
              "    <tr>\n",
              "      <th>101</th>\n",
              "      <td>M9V</td>\n",
              "      <td>43.739416</td>\n",
              "      <td>-79.588437</td>\n",
              "    </tr>\n",
              "    <tr>\n",
              "      <th>102</th>\n",
              "      <td>M9W</td>\n",
              "      <td>43.706748</td>\n",
              "      <td>-79.594054</td>\n",
              "    </tr>\n",
              "  </tbody>\n",
              "</table>\n",
              "<p>103 rows × 3 columns</p>\n",
              "</div>"
            ],
            "text/plain": [
              "    PostalCode   Latitude  Longitude\n",
              "0          M1B  43.806686 -79.194353\n",
              "1          M1C  43.784535 -79.160497\n",
              "2          M1E  43.763573 -79.188711\n",
              "3          M1G  43.770992 -79.216917\n",
              "4          M1H  43.773136 -79.239476\n",
              "..         ...        ...        ...\n",
              "98         M9N  43.706876 -79.518188\n",
              "99         M9P  43.696319 -79.532242\n",
              "100        M9R  43.688905 -79.554724\n",
              "101        M9V  43.739416 -79.588437\n",
              "102        M9W  43.706748 -79.594054\n",
              "\n",
              "[103 rows x 3 columns]"
            ]
          },
          "metadata": {
            "tags": []
          },
          "execution_count": 35
        }
      ]
    },
    {
      "cell_type": "markdown",
      "metadata": {
        "id": "ElQx8bh2_P1C"
      },
      "source": [
        "This merges the two Dataframe on the column \"PostalCode\"."
      ]
    },
    {
      "cell_type": "code",
      "metadata": {
        "colab": {
          "base_uri": "https://localhost:8080/",
          "height": 424
        },
        "id": "E5fuYggezi7f",
        "outputId": "ab6a9966-3c14-47da-ca6e-0a83f335246b"
      },
      "source": [
        "t_neghborhood = pd.merge(t_n, la_lng, on=\"PostalCode\")\n",
        "t_neghborhood"
      ],
      "execution_count": null,
      "outputs": [
        {
          "output_type": "execute_result",
          "data": {
            "text/html": [
              "<div>\n",
              "<style scoped>\n",
              "    .dataframe tbody tr th:only-of-type {\n",
              "        vertical-align: middle;\n",
              "    }\n",
              "\n",
              "    .dataframe tbody tr th {\n",
              "        vertical-align: top;\n",
              "    }\n",
              "\n",
              "    .dataframe thead th {\n",
              "        text-align: right;\n",
              "    }\n",
              "</style>\n",
              "<table border=\"1\" class=\"dataframe\">\n",
              "  <thead>\n",
              "    <tr style=\"text-align: right;\">\n",
              "      <th></th>\n",
              "      <th>PostalCode</th>\n",
              "      <th>Borough</th>\n",
              "      <th>Neighborhood</th>\n",
              "      <th>Latitude</th>\n",
              "      <th>Longitude</th>\n",
              "    </tr>\n",
              "  </thead>\n",
              "  <tbody>\n",
              "    <tr>\n",
              "      <th>0</th>\n",
              "      <td>M3A</td>\n",
              "      <td>North York</td>\n",
              "      <td>Parkwoods</td>\n",
              "      <td>43.753259</td>\n",
              "      <td>-79.329656</td>\n",
              "    </tr>\n",
              "    <tr>\n",
              "      <th>1</th>\n",
              "      <td>M4A</td>\n",
              "      <td>North York</td>\n",
              "      <td>Victoria Village</td>\n",
              "      <td>43.725882</td>\n",
              "      <td>-79.315572</td>\n",
              "    </tr>\n",
              "    <tr>\n",
              "      <th>2</th>\n",
              "      <td>M5A</td>\n",
              "      <td>Downtown Toronto</td>\n",
              "      <td>Regent Park, Harbourfront</td>\n",
              "      <td>43.654260</td>\n",
              "      <td>-79.360636</td>\n",
              "    </tr>\n",
              "    <tr>\n",
              "      <th>3</th>\n",
              "      <td>M6A</td>\n",
              "      <td>North York</td>\n",
              "      <td>Lawrence Manor, Lawrence Heights</td>\n",
              "      <td>43.718518</td>\n",
              "      <td>-79.464763</td>\n",
              "    </tr>\n",
              "    <tr>\n",
              "      <th>4</th>\n",
              "      <td>M7A</td>\n",
              "      <td>Queen's Park</td>\n",
              "      <td>Ontario Provincial Government</td>\n",
              "      <td>43.662301</td>\n",
              "      <td>-79.389494</td>\n",
              "    </tr>\n",
              "    <tr>\n",
              "      <th>...</th>\n",
              "      <td>...</td>\n",
              "      <td>...</td>\n",
              "      <td>...</td>\n",
              "      <td>...</td>\n",
              "      <td>...</td>\n",
              "    </tr>\n",
              "    <tr>\n",
              "      <th>98</th>\n",
              "      <td>M8X</td>\n",
              "      <td>Etobicoke</td>\n",
              "      <td>The Kingsway, Montgomery Road, Old Mill North</td>\n",
              "      <td>43.653654</td>\n",
              "      <td>-79.506944</td>\n",
              "    </tr>\n",
              "    <tr>\n",
              "      <th>99</th>\n",
              "      <td>M4Y</td>\n",
              "      <td>Downtown Toronto</td>\n",
              "      <td>Church and Wellesley</td>\n",
              "      <td>43.665860</td>\n",
              "      <td>-79.383160</td>\n",
              "    </tr>\n",
              "    <tr>\n",
              "      <th>100</th>\n",
              "      <td>M7Y</td>\n",
              "      <td>East Toronto Business</td>\n",
              "      <td>Enclave of M4L</td>\n",
              "      <td>43.662744</td>\n",
              "      <td>-79.321558</td>\n",
              "    </tr>\n",
              "    <tr>\n",
              "      <th>101</th>\n",
              "      <td>M8Y</td>\n",
              "      <td>Etobicoke</td>\n",
              "      <td>Old Mill South, King's Mill Park, Sunnylea, Hu...</td>\n",
              "      <td>43.636258</td>\n",
              "      <td>-79.498509</td>\n",
              "    </tr>\n",
              "    <tr>\n",
              "      <th>102</th>\n",
              "      <td>M8Z</td>\n",
              "      <td>Etobicoke</td>\n",
              "      <td>Mimico NW, The Queensway West, South of Bloor,...</td>\n",
              "      <td>43.628841</td>\n",
              "      <td>-79.520999</td>\n",
              "    </tr>\n",
              "  </tbody>\n",
              "</table>\n",
              "<p>103 rows × 5 columns</p>\n",
              "</div>"
            ],
            "text/plain": [
              "    PostalCode                Borough  ...   Latitude  Longitude\n",
              "0          M3A             North York  ...  43.753259 -79.329656\n",
              "1          M4A             North York  ...  43.725882 -79.315572\n",
              "2          M5A       Downtown Toronto  ...  43.654260 -79.360636\n",
              "3          M6A             North York  ...  43.718518 -79.464763\n",
              "4          M7A           Queen's Park  ...  43.662301 -79.389494\n",
              "..         ...                    ...  ...        ...        ...\n",
              "98         M8X              Etobicoke  ...  43.653654 -79.506944\n",
              "99         M4Y       Downtown Toronto  ...  43.665860 -79.383160\n",
              "100        M7Y  East Toronto Business  ...  43.662744 -79.321558\n",
              "101        M8Y              Etobicoke  ...  43.636258 -79.498509\n",
              "102        M8Z              Etobicoke  ...  43.628841 -79.520999\n",
              "\n",
              "[103 rows x 5 columns]"
            ]
          },
          "metadata": {
            "tags": []
          },
          "execution_count": 36
        }
      ]
    }
  ]
}