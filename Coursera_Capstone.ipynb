{
  "nbformat": 4,
  "nbformat_minor": 0,
  "metadata": {
    "colab": {
      "name": "Coursera_Capstone.ipynb",
      "provenance": [],
      "authorship_tag": "ABX9TyOsxNl/++AQvjFJnFkJWakD",
      "include_colab_link": true
    },
    "kernelspec": {
      "name": "python3",
      "display_name": "Python 3"
    },
    "language_info": {
      "name": "python"
    }
  },
  "cells": [
    {
      "cell_type": "markdown",
      "metadata": {
        "id": "view-in-github",
        "colab_type": "text"
      },
      "source": [
        "<a href=\"https://colab.research.google.com/github/McAjumma/Coursera_Capstone/blob/main/Coursera_Capstone.ipynb\" target=\"_parent\"><img src=\"https://colab.research.google.com/assets/colab-badge.svg\" alt=\"Open In Colab\"/></a>"
      ]
    },
    {
      "cell_type": "markdown",
      "metadata": {
        "id": "dmRFsfNi-xoy"
      },
      "source": [
        "# Capstone Notebook\n"
      ]
    },
    {
      "cell_type": "markdown",
      "metadata": {
        "id": "asdFWqJL-3DY"
      },
      "source": [
        "This note will contain all the work done for my capstone project for IBM Data Science one Coursera. The project is cluster and comparing data of different neighborhood in Toronto."
      ]
    },
    {
      "cell_type": "code",
      "metadata": {
        "id": "olkLKiXr-37w"
      },
      "source": [
        "import pandas as pd\n",
        "import numpy as np"
      ],
      "execution_count": 1,
      "outputs": []
    },
    {
      "cell_type": "code",
      "metadata": {
        "colab": {
          "base_uri": "https://localhost:8080/"
        },
        "id": "UmN-67d2-7PZ",
        "outputId": "5bda1f4c-594c-454f-81e4-a9045cc4ea8e"
      },
      "source": [
        "print(\"Hello Capstone Project\")"
      ],
      "execution_count": 3,
      "outputs": [
        {
          "output_type": "stream",
          "text": [
            "Hello Capstone Project\n"
          ],
          "name": "stdout"
        }
      ]
    },
    {
      "cell_type": "code",
      "metadata": {
        "id": "qV_3VF83--Bu"
      },
      "source": [
        ""
      ],
      "execution_count": null,
      "outputs": []
    }
  ]
}